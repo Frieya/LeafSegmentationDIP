{
 "cells": [
  {
   "cell_type": "code",
   "execution_count": 1,
   "id": "d171e5d0-c146-42b3-81b9-3f961f877850",
   "metadata": {},
   "outputs": [],
   "source": [
    "%load_ext autoreload\n",
    "%autoreload 2"
   ]
  },
  {
   "cell_type": "code",
   "execution_count": 2,
   "id": "1a076b65-3ca9-47ea-9cc0-c101a050c74a",
   "metadata": {},
   "outputs": [],
   "source": [
    "\n",
    "import numpy as np\n",
    "import matplotlib.pyplot as plt\n",
    "import matplotlib.image as plt_img\n",
    "\n"
   ]
  },
  {
   "cell_type": "code",
   "execution_count": 3,
   "id": "e7b3a915-a3eb-411c-afda-85436a70143d",
   "metadata": {},
   "outputs": [],
   "source": [
    "import os\n",
    "from utils import mytransforms as my_transforms\n",
    "import torch\n",
    "from datasets import get_dataset\n",
    "from utils import coco_eval, coco_utils, utils2\n",
    "from tqdm import tqdm\n",
    "from evaluate_LSC import *\n",
    "import torchvision.transforms as transforms"
   ]
  },
  {
   "cell_type": "code",
   "execution_count": null,
   "id": "cb640d01-b085-446e-a040-200e4b067db3",
   "metadata": {},
   "outputs": [],
   "source": []
  },
  {
   "cell_type": "code",
   "execution_count": 4,
   "id": "4281c4b5-9c53-4d4b-9420-a07386a31fee",
   "metadata": {
    "id": "mWyqOtmWl_p0"
   },
   "outputs": [],
   "source": [
    "def val(dataset_it, coco_parts_dataset, epoch, device, only_eval=False, lsc_eval=False):\n",
    "    # coco_parts_evaluator.coco_eval[\"bbox\"].params.catIds = [1]\n",
    "    # loop all datasets in gtLabelFile and compare to respective dataset in inLabelFile\n",
    "    if lsc_eval:\n",
    "        results_lsc = {\n",
    "          'header': ('number', 'filename', 'SymBestDice', 'FgBgDice', 'aDiC', 'DiC',\n",
    "                     'Pa', 'Pa±1')\n",
    "        }\n",
    "        stats_lsc = {'header': ('measure', 'mean', 'std')}\n",
    "\n",
    "        SymBestDice = []\n",
    "        FgBgDice = []\n",
    "        absDiC = []\n",
    "        DiC = []\n",
    "        Pa = []\n",
    "        PaPM1 = []\n",
    "        filenames = []\n",
    "        \n",
    "    for sample in tqdm(dataset_it):\n",
    "\n",
    "        \n",
    "        output = plt.imread(f\"./Komatsuna_DIP1/{sample['image_name'][0]}\")\n",
    "\n",
    "        if True:\n",
    "            batch_size = 1\n",
    "\n",
    "\n",
    "        for j in range(batch_size):\n",
    "            part_img = output\n",
    "            try:\n",
    "                if True:\n",
    "                    # now call the scoring routines and append results to respective lists\n",
    "                    inLabel = part_img\n",
    "                    gtLabel = transforms.functional.to_pil_image(sample['parts_instances'][0])\n",
    "                    gtLabel = np.asarray(gtLabel)\n",
    "                    SymBestDice.append(\n",
    "                      np.minimum(BestDice(inLabel, gtLabel), BestDice(gtLabel, inLabel)))\n",
    "                    FgBgDice.append(FGBGDice(inLabel, gtLabel))\n",
    "                    absDiC.append(absDiffCount(inLabel, gtLabel))\n",
    "                    DiC.append(DiffCount(inLabel, gtLabel))\n",
    "                    Pa.append(PercentageAgree(inLabel, gtLabel))\n",
    "                    PaPM1.append(PercentageAgreePM1(inLabel, gtLabel))\n",
    "            except:\n",
    "                print(inLabel.shape)\n",
    "                print(gtLabel.shape)\n",
    "        \n",
    "    if True:\n",
    "            # store results in dictionary\n",
    "        zipped = zip(\n",
    "            range(1, dataset_it.__len__() + 1), filenames, SymBestDice, FgBgDice, absDiC, DiC, Pa, PaPM1)\n",
    "        groupresults = {\"LSC\": list(zipped)}\n",
    "        groupstats = {\n",
    "            \"LSC\": [('SymBestDice', np.mean(SymBestDice), np.std(SymBestDice)),\n",
    "                  ('FgBgDice', np.mean(FgBgDice), np.std(FgBgDice)),\n",
    "                  ('aDiC', np.mean(absDiC), np.std(absDiC)),\n",
    "                  ('DiC', np.mean(DiC), np.std(DiC)),\n",
    "                  ('Pa', np.mean(Pa), np.std(Pa)),\n",
    "                  ('Pa±1', np.mean(PaPM1), np.std(PaPM1))]\n",
    "        }\n",
    "        results_lsc.update(groupresults)\n",
    "        stats_lsc.update(groupstats)\n",
    "    coco_parts_evaluator = None\n",
    "    return coco_parts_evaluator, results_lsc, stats_lsc\n"
   ]
  },
  {
   "cell_type": "code",
   "execution_count": 5,
   "id": "645407d4-4fc8-41cc-81a3-0f981936ab8d",
   "metadata": {
    "tags": []
   },
   "outputs": [
    {
     "name": "stdout",
     "output_type": "stream",
     "text": [
      "No# of image files: 300\n",
      "No# of segment files: 300\n",
      "Komatsuna Dataset created [train]\n",
      "creating index...\n",
      "index created!\n"
     ]
    }
   ],
   "source": [
    "PATH = os.path.join(os.path.dirname(os.getcwd()),\"LeafSAM\", \"dataset\")\n",
    "dataset_opts = dict(\n",
    "    root_dir=os.path.join(PATH, \"Komatsuna\"),\n",
    "    split=\"train\",\n",
    "    transform=my_transforms.get_transform([\n",
    "                {\n",
    "                    'name': 'ToTensor',\n",
    "                    'opts': {\n",
    "                        'keys': ['image', 'global_instances', 'global_labels', 'parts_instances', 'parts_labels'],\n",
    "                        'type': [torch.FloatTensor, torch.ByteTensor, torch.ByteTensor, torch.ByteTensor, torch.ByteTensor],\n",
    "                    }\n",
    "                },\n",
    "            ])\n",
    ")\n",
    "komatsuna_train_dataset = get_dataset(\"komatsuna\" ,dataset_opts)\n",
    "\n",
    "komatsuna_train_dataset_it = torch.utils.data.DataLoader(\n",
    "    komatsuna_train_dataset, batch_size=1, shuffle=True, drop_last=True, num_workers=1, pin_memory=False)\n",
    "\n",
    "coco_parts_dataset = coco_utils.convert_parts_to_coco_api(komatsuna_train_dataset_it.dataset)"
   ]
  },
  {
   "cell_type": "code",
   "execution_count": 6,
   "id": "0370ebab-0b34-4105-b3b2-a674f311a299",
   "metadata": {},
   "outputs": [
    {
     "data": {
      "text/plain": [
       "'rgb_00_000_01.png'"
      ]
     },
     "execution_count": 6,
     "metadata": {},
     "output_type": "execute_result"
    }
   ],
   "source": [
    "komatsuna_train_dataset[1][\"image_name\"]"
   ]
  },
  {
   "cell_type": "code",
   "execution_count": 9,
   "id": "7e1124d4-db1e-4e36-bb4b-f649a3b4ded3",
   "metadata": {},
   "outputs": [
    {
     "name": "stderr",
     "output_type": "stream",
     "text": [
      "100%|████████████████████████████████████████████████████████████████████████████████| 300/300 [00:07<00:00, 37.54it/s]"
     ]
    },
    {
     "name": "stdout",
     "output_type": "stream",
     "text": [
      "Start time: Wed Aug  7 21:10:28 2024\n",
      "End time: Wed Aug  7 21:10:36 2024\n"
     ]
    },
    {
     "name": "stderr",
     "output_type": "stream",
     "text": [
      "\n"
     ]
    }
   ],
   "source": [
    "import time\n",
    "\n",
    "# seconds passed since epoch\n",
    "seconds =  time.time()\n",
    "\n",
    "# convert the time in seconds since the epoch to a readable format\n",
    "start_time = time.ctime(seconds)\n",
    "\n",
    "coco_eval_results, lsc_r, lsc_s = val(komatsuna_train_dataset_it, coco_parts_dataset, epoch=-1, device=None, only_eval=True, lsc_eval=True)\n",
    "\n",
    "# seconds passed since epoch\n",
    "seconds =  time.time()\n",
    "\n",
    "# convert the time in seconds since the epoch to a readable format\n",
    "end_time = time.ctime(seconds)\n",
    "\n",
    "print(\"Start time:\", start_time)\n",
    "print(\"End time:\", end_time)"
   ]
  },
  {
   "cell_type": "code",
   "execution_count": 10,
   "id": "4edd3fea-c4ff-4de4-9bc5-f62eea5840cc",
   "metadata": {},
   "outputs": [
    {
     "data": {
      "text/plain": [
       "{'header': ('measure', 'mean', 'std'),\n",
       " 'LSC': [('SymBestDice', 0.6469518971807466, 0.18441370749224897),\n",
       "  ('FgBgDice', 0.8629745496917404, 0.16047764248233926),\n",
       "  ('aDiC', 1.1766666666666667, 0.9620060059872576),\n",
       "  ('DiC', -0.91, 1.2173331507849443),\n",
       "  ('Pa', 0.26666666666666666, 0.44221663871405337),\n",
       "  ('Pa±1', 0.66, 0.4737087712930804)]}"
      ]
     },
     "execution_count": 10,
     "metadata": {},
     "output_type": "execute_result"
    }
   ],
   "source": [
    "lsc_s"
   ]
  },
  {
   "cell_type": "code",
   "execution_count": null,
   "id": "fa43523c-1d58-4896-b2a3-b328bf801331",
   "metadata": {},
   "outputs": [],
   "source": []
  }
 ],
 "metadata": {
  "kernelspec": {
   "display_name": "Python 3 (ipykernel)",
   "language": "python",
   "name": "python3"
  },
  "language_info": {
   "codemirror_mode": {
    "name": "ipython",
    "version": 3
   },
   "file_extension": ".py",
   "mimetype": "text/x-python",
   "name": "python",
   "nbconvert_exporter": "python",
   "pygments_lexer": "ipython3",
   "version": "3.9.18"
  }
 },
 "nbformat": 4,
 "nbformat_minor": 5
}
